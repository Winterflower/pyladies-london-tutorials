{
 "cells": [
  {
   "cell_type": "markdown",
   "metadata": {},
   "source": [
    "# Introduction to Python Generators\n",
    "by: PyLadies London (2016)\n",
    "\n",
    "** Disclaimer: The authors of this Jupyter notebook take no responsibility for any crashes, chaotic-computing-situations or general programming shenanigans that may follow from using this code **\n",
    "\n",
    "\n",
    "A generator is a language feature that allows a function to return values in a lazy manner ( on-demand ) instead of all at one. Generators were first introduced into Python in 2001 (PEP - Python Enhancement Proposal - 255 Simple Generators [PEP-255](https://www.python.org/dev/peps/pep-0255/) ). In the sections below, we will explore some very basic aspects of Python generators and how to write them. \n",
    "\n",
    "(Please note: most of the code below is just for demo and does not represent 'clean, beautiful or otherwise desirable code style'. Use at your own peril. )\n",
    "\n",
    "(Also please note that this is a beginner/intermediate workshop, so if you are a Python-ninja-super-rockstar-programmer-Guido-van-Rossum guru, you will probably spend this workshop bored to tears. :D )\n",
    "\n",
    "(And the very last note, I promise, is that the humour during this workshop will be bad. I apologise in advance. )\n",
    "\n",
    "### Pre-requisites\n",
    "Very basic familiarity with the following Python features are required for this tutorial:\n",
    "* variables, assigning variables, basic arithmetic manipulation\n",
    "* functions \n",
    "* for -loops\n",
    "* some example will include things like list comprehensions\n",
    "\n",
    "### Motivating Example \n",
    "Let's start with a small example. Suppose we want to write a function ``generate_number`` which takes some value ``n`` and returns numbers that are multiples of 3 of each number until n. \n",
    "We can quickly come up with a function to give us the desired result. "
   ]
  },
  {
   "cell_type": "code",
   "execution_count": 1,
   "metadata": {
    "collapsed": false
   },
   "outputs": [
    {
     "data": {
      "text/plain": [
       "[0, 3, 6, 9]"
      ]
     },
     "execution_count": 1,
     "metadata": {},
     "output_type": "execute_result"
    }
   ],
   "source": [
    "#sample function \n",
    "def generate_number(n):\n",
    "    return [3*i for i in range(n)]\n",
    "# let's try it out\n",
    "generate_number(4)"
   ]
  },
  {
   "cell_type": "markdown",
   "metadata": {},
   "source": [
    "For small sizes of ``n``, you will probably be find with returning the entire list and keeping it in memory for the duration of your program. However, imagine someone decided to call this function with n=1000 or n=100 000 multiple times. Your Python process might carrying around some heavy memory baggage! In fact, we can use a tool ``psutil`` to measure how much memory (there are various kinds of memory that you can measure on your PC, I'm being a bit vague here intentionally ) to measure what happens to a Python process when we start generating large amounts of lists to keep in -memory. ( see here for a [handy introduction to psutil](http://fa.bianp.net/blog/2013/different-ways-to-get-memory-consumption-or-lessons-learned-from-memory_profiler/) by Fabian Pedregosa - you should note that the blog post is from 2013 and the API for psutil has change a bit. For the most up-to-date information, please check the [docs](https://pythonhosted.org/psutil/#quick-links) ).  "
   ]
  },
  {
   "cell_type": "code",
   "execution_count": 2,
   "metadata": {
    "collapsed": false
   },
   "outputs": [
    {
     "ename": "ImportError",
     "evalue": "No module named psutil",
     "output_type": "error",
     "traceback": [
      "\u001b[1;31m---------------------------------------------------------------------------\u001b[0m",
      "\u001b[1;31mImportError\u001b[0m                               Traceback (most recent call last)",
      "\u001b[1;32m<ipython-input-2-4253e2532beb>\u001b[0m in \u001b[0;36m<module>\u001b[1;34m()\u001b[0m\n\u001b[0;32m      1\u001b[0m \u001b[1;31m#mini program to measure memory usage\u001b[0m\u001b[1;33m\u001b[0m\u001b[1;33m\u001b[0m\u001b[0m\n\u001b[1;32m----> 2\u001b[1;33m \u001b[1;32mimport\u001b[0m \u001b[0mpsutil\u001b[0m\u001b[1;33m\u001b[0m\u001b[0m\n\u001b[0m\u001b[0;32m      3\u001b[0m \u001b[1;32mimport\u001b[0m \u001b[0mos\u001b[0m \u001b[1;31m# this module contains various useful libraries for interacting with the OS\u001b[0m\u001b[1;33m\u001b[0m\u001b[0m\n\u001b[0;32m      4\u001b[0m \u001b[1;33m\u001b[0m\u001b[0m\n\u001b[0;32m      5\u001b[0m \u001b[1;32mdef\u001b[0m \u001b[0mgenerate_number\u001b[0m\u001b[1;33m(\u001b[0m\u001b[0mn\u001b[0m\u001b[1;33m)\u001b[0m\u001b[1;33m:\u001b[0m\u001b[1;33m\u001b[0m\u001b[0m\n",
      "\u001b[1;31mImportError\u001b[0m: No module named psutil"
     ]
    }
   ],
   "source": [
    "#mini program to measure memory usage \n",
    "import psutil \n",
    "import os # this module contains various useful libraries for interacting with the OS\n",
    "\n",
    "def generate_number(n):\n",
    "    return [3*i for i in range(n)]\n",
    "\n",
    "def measure_proc_memory():\n",
    "    proc = psutil.Process(os.getpid()) \n",
    "    mem_info = proc.memory_info()[0]\n",
    "    print 'Memory consumed: ', mem_info\n",
    "\n",
    "def main():\n",
    "    some_list = generate_number(1000)\n",
    "    measure_proc_memory()\n",
    "    \n",
    "    \n",
    "main()\n",
    "    "
   ]
  },
  {
   "cell_type": "markdown",
   "metadata": {},
   "source": [
    "In fact, if you experiment a bit, you will notice that at some point Python will throw a ``MemoryError`` at you. \n",
    "If you don't need to carry out operations on the whole list at one, you can use a ``generator`` to generate elements of the list in an on-demand fashion. Let's convert the original ``generate_numbers`` function into a generator. "
   ]
  },
  {
   "cell_type": "markdown",
   "metadata": {},
   "source": [
    "### Writing a generator function"
   ]
  },
  {
   "cell_type": "code",
   "execution_count": 3,
   "metadata": {
    "collapsed": true
   },
   "outputs": [],
   "source": [
    "# convert generate_numbers into a generator \n",
    "def gen_numbers(n):\n",
    "    for i in range(n):\n",
    "        yield 3*i"
   ]
  },
  {
   "cell_type": "markdown",
   "metadata": {},
   "source": [
    "There is one key concept introduced in the example above\n",
    "* the ``yield`` keyword\n",
    "Instead of ``returning`` the entire list like we did in the original example, we are now ``yielding`` individual elements of the list. "
   ]
  },
  {
   "cell_type": "code",
   "execution_count": 4,
   "metadata": {
    "collapsed": false
   },
   "outputs": [
    {
     "data": {
      "text/plain": [
       "<generator object gen_numbers at 0x7f9dc8d67280>"
      ]
     },
     "execution_count": 4,
     "metadata": {},
     "output_type": "execute_result"
    }
   ],
   "source": [
    "gen_numbers(4)"
   ]
  },
  {
   "cell_type": "markdown",
   "metadata": {},
   "source": [
    "The second thing you should notice is that calling the ``gen_numbers`` function did not return any numbers. Instead we got a generator object which we can iterate through to produce numbers on-demand."
   ]
  },
  {
   "cell_type": "code",
   "execution_count": 5,
   "metadata": {
    "collapsed": true
   },
   "outputs": [],
   "source": [
    "#create a generator object and retrieve its values"
   ]
  },
  {
   "cell_type": "code",
   "execution_count": 6,
   "metadata": {
    "collapsed": false
   },
   "outputs": [
    {
     "name": "stdout",
     "output_type": "stream",
     "text": [
      "0\n",
      "3\n",
      "6\n"
     ]
    }
   ],
   "source": [
    "gen_obj = gen_numbers(3)\n",
    "print next(gen_obj) #1st element\n",
    "print next(gen_obj) #2nd element\n",
    "print next(gen_obj) #3rd element"
   ]
  },
  {
   "cell_type": "markdown",
   "metadata": {},
   "source": [
    "After that the generator will be 'exhausted', which means that calling ``next`` on the generator object again, will not give you any more elements of the list. Instead, you will get a ``StopIteration`` exception. To start iterating again, we will have to create a new instance of the generator object. "
   ]
  },
  {
   "cell_type": "code",
   "execution_count": 7,
   "metadata": {
    "collapsed": false
   },
   "outputs": [
    {
     "ename": "StopIteration",
     "evalue": "",
     "output_type": "error",
     "traceback": [
      "\u001b[1;31m---------------------------------------------------------------------------\u001b[0m",
      "\u001b[1;31mStopIteration\u001b[0m                             Traceback (most recent call last)",
      "\u001b[1;32m<ipython-input-7-217fc7f513e7>\u001b[0m in \u001b[0;36m<module>\u001b[1;34m()\u001b[0m\n\u001b[0;32m      1\u001b[0m \u001b[1;31m#calling `next` on an exhausted generator will result in StopIteration\u001b[0m\u001b[1;33m\u001b[0m\u001b[1;33m\u001b[0m\u001b[0m\n\u001b[1;32m----> 2\u001b[1;33m \u001b[1;32mprint\u001b[0m \u001b[0mnext\u001b[0m\u001b[1;33m(\u001b[0m\u001b[0mgen_obj\u001b[0m\u001b[1;33m)\u001b[0m\u001b[1;33m\u001b[0m\u001b[0m\n\u001b[0m",
      "\u001b[1;31mStopIteration\u001b[0m: "
     ]
    }
   ],
   "source": [
    "#calling `next` on an exhausted generator will result in StopIteration\n",
    "print next(gen_obj)"
   ]
  },
  {
   "cell_type": "markdown",
   "metadata": {},
   "source": [
    "## Exercises : Part 1\n",
    "1.1 Write a generator function that returns a single number \n",
    "\n",
    "1.2 Write a generator function that returns letters from the English alphabet"
   ]
  },
  {
   "cell_type": "markdown",
   "metadata": {},
   "source": [
    "## Generator Expressions\n",
    "Generating a list of values with particular characteristics is such a ubiquitous programming task that Python has introduced a language feature known as 'list comprehensions'. For example, to generate all multiples of three between 0 and 4, we can employ the following list comprehension:"
   ]
  },
  {
   "cell_type": "code",
   "execution_count": 8,
   "metadata": {
    "collapsed": false
   },
   "outputs": [
    {
     "data": {
      "text/plain": [
       "[0, 3, 6, 9, 12]"
      ]
     },
     "execution_count": 8,
     "metadata": {},
     "output_type": "execute_result"
    }
   ],
   "source": [
    "[ 3*i for i in range(5)]"
   ]
  },
  {
   "cell_type": "markdown",
   "metadata": {},
   "source": [
    "List comprehensions also allow us to include filtering based on conditions. For example, the list comprehensions below produces all multiples of 3 between 0 and 15 if their modulo 5 is equal to 0 (ie, they are divisible by 5 without a remainder ). "
   ]
  },
  {
   "cell_type": "code",
   "execution_count": 9,
   "metadata": {
    "collapsed": false
   },
   "outputs": [
    {
     "data": {
      "text/plain": [
       "[0, 15, 30, 45]"
      ]
     },
     "execution_count": 9,
     "metadata": {},
     "output_type": "execute_result"
    }
   ],
   "source": [
    "[ 3*i for i in range(16) if 3*i%5==0]"
   ]
  },
  {
   "cell_type": "markdown",
   "metadata": {},
   "source": [
    "In the world of generators, a sort-of analogue for the list comprehension is a ``generator_expression``. For example, we can return a list of multiples of 3 between 0 and 4 in a lazy manner by employing the generator expression below. Notice that this does not return a list, but a generator object. "
   ]
  },
  {
   "cell_type": "code",
   "execution_count": 10,
   "metadata": {
    "collapsed": false
   },
   "outputs": [
    {
     "data": {
      "text/plain": [
       "<generator object <genexpr> at 0x7f9dc8d672d0>"
      ]
     },
     "execution_count": 10,
     "metadata": {},
     "output_type": "execute_result"
    }
   ],
   "source": [
    "( 3*i for i in range(5))"
   ]
  },
  {
   "cell_type": "markdown",
   "metadata": {},
   "source": [
    "We can then iterate through the resulting generator object using the same next method we saw before:"
   ]
  },
  {
   "cell_type": "code",
   "execution_count": 11,
   "metadata": {
    "collapsed": false
   },
   "outputs": [
    {
     "data": {
      "text/plain": [
       "0"
      ]
     },
     "execution_count": 11,
     "metadata": {},
     "output_type": "execute_result"
    }
   ],
   "source": [
    "gen_obj =(3*i for i in range(5))\n",
    "next(gen_obj)"
   ]
  },
  {
   "cell_type": "markdown",
   "metadata": {},
   "source": [
    "We can also use the resulting generator objects in a ``for``-loop : "
   ]
  },
  {
   "cell_type": "code",
   "execution_count": 12,
   "metadata": {
    "collapsed": false
   },
   "outputs": [
    {
     "name": "stdout",
     "output_type": "stream",
     "text": [
      "Hello World, Tom\n",
      "Hello World, Karlie\n",
      "Hello World, Taylor\n",
      "Hello World, Gigi\n"
     ]
    }
   ],
   "source": [
    "for element in ( 'Hello World, ' + name for name in ('Tom', 'Karlie', 'Taylor', 'Gigi')):\n",
    "    print element"
   ]
  },
  {
   "cell_type": "markdown",
   "metadata": {},
   "source": [
    "### Nested Generator Expressions\n",
    "Like nested list comprehensions, generator expressions can also be nested. For example, in the example below we first multiply a number by 3 ( in the innermost expression ) and then turn it into a string [ This is a rather trivial example, you could multiple by 3 and then directly pass the resulting number into str, but it illustrates the point of using nested generator expressions ]. "
   ]
  },
  {
   "cell_type": "code",
   "execution_count": 13,
   "metadata": {
    "collapsed": false
   },
   "outputs": [
    {
     "name": "stdout",
     "output_type": "stream",
     "text": [
      "3\n",
      "4\n",
      "5\n"
     ]
    }
   ],
   "source": [
    "#nested generator expressions\n",
    "gen_obj = ( str(n) for n in (i+2 for i in (1,2,3)))\n",
    "print next(gen_obj)\n",
    "print next(gen_obj)\n",
    "print next(gen_obj)"
   ]
  },
  {
   "cell_type": "markdown",
   "metadata": {},
   "source": [
    "## Exercises: Part 2\n",
    "2.1 Write a generator expression that returns the first letter of each word in the list ['New York', 'London', 'Paris', 'Helsinki' ]\n",
    "\n",
    "2.2 Write a regular Python function that accepts a temperature value as an argument and converts that value from degrees Fahrenheit into degrees Celsius ( the formula for this conversion is C=(f-32)*(5/9) ). Then write a generator expression that generates a list of Celsius values from a list of Fahrenheit values of your choice. "
   ]
  },
  {
   "cell_type": "markdown",
   "metadata": {},
   "source": [
    "## Bidirectional communication with generators"
   ]
  },
  {
   "cell_type": "markdown",
   "metadata": {},
   "source": [
    "Based on the previous two sections, we know that introducing the ``yield`` statement into a function, will cause the function to return values to the caller of the function. But is it possible to send values from the function back into the generator? Bidirectional communication between the generator function and its caller was introduced in [PEP 342 (Python 2.5 ) \"Coroutines via Enhanced Generators\"](https://www.python.org/dev/peps/pep-0342/). Let's look at a simple example  of how we can pass values back into the generator."
   ]
  },
  {
   "cell_type": "code",
   "execution_count": 53,
   "metadata": {
    "collapsed": false
   },
   "outputs": [
    {
     "name": "stdout",
     "output_type": "stream",
     "text": [
      "::main: Value returned when gen initialised: 0\n",
      "::adder: add has a value:  5\n",
      "::adder: i has a value:  5\n",
      "::main: returned_value:  5\n",
      "::adder: add has a value:  2\n",
      "::adder: i has a value:  7\n",
      "::main: returned_value:  7\n"
     ]
    }
   ],
   "source": [
    "def adder(n): #generator function that adds numbers\n",
    "    i=0\n",
    "    for _ in range(n):\n",
    "        add = yield i \n",
    "        print '::adder: add has a value: ', add\n",
    "        i+=add\n",
    "        print '::adder: i has a value: ', i\n",
    "        \n",
    "        \n",
    "def main():\n",
    "    gen_obj = adder(10)\n",
    "    print '::main: Value returned when gen initialised:',next(gen_obj) # we have to call 'next' on a new generator object to 'initialise'/start the generator\n",
    "    returned_value = gen_obj.send(5) # after the generator has been initialised, we can send values using .send\n",
    "    print '::main: returned_value: ', returned_value #value returned is 1, because \n",
    "    returned_value = gen_obj.send(2)\n",
    "    print '::main: returned_value: ', returned_value\n",
    "    \n",
    "main()"
   ]
  },
  {
   "cell_type": "markdown",
   "metadata": {},
   "source": [
    "Notice what happens when we try to directly call .send() on the generator object"
   ]
  },
  {
   "cell_type": "code",
   "execution_count": 14,
   "metadata": {
    "collapsed": false
   },
   "outputs": [
    {
     "ename": "NameError",
     "evalue": "global name 'adder' is not defined",
     "output_type": "error",
     "traceback": [
      "\u001b[1;31m---------------------------------------------------------------------------\u001b[0m",
      "\u001b[1;31mNameError\u001b[0m                                 Traceback (most recent call last)",
      "\u001b[1;32m<ipython-input-14-13499bdd7145>\u001b[0m in \u001b[0;36m<module>\u001b[1;34m()\u001b[0m\n\u001b[0;32m      3\u001b[0m     \u001b[1;31m#print next(gen_obj) # we have to call 'next' on a new generator object to 'initialise'/start the generator\u001b[0m\u001b[1;33m\u001b[0m\u001b[1;33m\u001b[0m\u001b[0m\n\u001b[0;32m      4\u001b[0m     \u001b[0mreturned_valued\u001b[0m \u001b[1;33m=\u001b[0m \u001b[0mgen_obj\u001b[0m\u001b[1;33m.\u001b[0m\u001b[0msend\u001b[0m\u001b[1;33m(\u001b[0m\u001b[1;36m5\u001b[0m\u001b[1;33m)\u001b[0m \u001b[1;31m# after the generator has been initialised, we can send values using .send\u001b[0m\u001b[1;33m\u001b[0m\u001b[0m\n\u001b[1;32m----> 5\u001b[1;33m \u001b[0mmain2\u001b[0m\u001b[1;33m(\u001b[0m\u001b[1;33m)\u001b[0m\u001b[1;33m\u001b[0m\u001b[0m\n\u001b[0m",
      "\u001b[1;32m<ipython-input-14-13499bdd7145>\u001b[0m in \u001b[0;36mmain2\u001b[1;34m()\u001b[0m\n\u001b[0;32m      1\u001b[0m \u001b[1;32mdef\u001b[0m \u001b[0mmain2\u001b[0m\u001b[1;33m(\u001b[0m\u001b[1;33m)\u001b[0m\u001b[1;33m:\u001b[0m\u001b[1;33m\u001b[0m\u001b[0m\n\u001b[1;32m----> 2\u001b[1;33m     \u001b[0mgen_obj\u001b[0m \u001b[1;33m=\u001b[0m \u001b[0madder\u001b[0m\u001b[1;33m(\u001b[0m\u001b[1;36m10\u001b[0m\u001b[1;33m)\u001b[0m\u001b[1;33m\u001b[0m\u001b[0m\n\u001b[0m\u001b[0;32m      3\u001b[0m     \u001b[1;31m#print next(gen_obj) # we have to call 'next' on a new generator object to 'initialise'/start the generator\u001b[0m\u001b[1;33m\u001b[0m\u001b[1;33m\u001b[0m\u001b[0m\n\u001b[0;32m      4\u001b[0m     \u001b[0mreturned_valued\u001b[0m \u001b[1;33m=\u001b[0m \u001b[0mgen_obj\u001b[0m\u001b[1;33m.\u001b[0m\u001b[0msend\u001b[0m\u001b[1;33m(\u001b[0m\u001b[1;36m5\u001b[0m\u001b[1;33m)\u001b[0m \u001b[1;31m# after the generator has been initialised, we can send values using .send\u001b[0m\u001b[1;33m\u001b[0m\u001b[0m\n\u001b[0;32m      5\u001b[0m \u001b[0mmain2\u001b[0m\u001b[1;33m(\u001b[0m\u001b[1;33m)\u001b[0m\u001b[1;33m\u001b[0m\u001b[0m\n",
      "\u001b[1;31mNameError\u001b[0m: global name 'adder' is not defined"
     ]
    }
   ],
   "source": [
    "def main2():\n",
    "    gen_obj = adder(10)\n",
    "    #print next(gen_obj) # we have to call 'next' on a new generator object to 'initialise'/start the generator\n",
    "    returned_valued = gen_obj.send(5) # after the generator has been initialised, we can send values using .send\n",
    "main2()"
   ]
  },
  {
   "cell_type": "markdown",
   "metadata": {},
   "source": [
    "Notice that the error message says: \"can't send non-None value to a just-started generator\""
   ]
  },
  {
   "cell_type": "markdown",
   "metadata": {},
   "source": [
    "### Flow of execution in coroutines\n",
    "To clairify what happened in the previous section, let's briefly look at another coroutine and use print statements to examine how the execution logic flows within the function."
   ]
  },
  {
   "cell_type": "code",
   "execution_count": 16,
   "metadata": {
    "collapsed": false
   },
   "outputs": [
    {
     "name": "stdout",
     "output_type": "stream",
     "text": [
      " Executing everything until the first yield\n",
      "Value is currently:  0\n"
     ]
    },
    {
     "data": {
      "text/plain": [
       "1"
      ]
     },
     "execution_count": 16,
     "metadata": {},
     "output_type": "execute_result"
    }
   ],
   "source": [
    "def simple_coroutine():\n",
    "    value=0\n",
    "    print 'Executing everything until the first yield'\n",
    "    print 'Value is currently: ', value\n",
    "    value = yield 1\n",
    "    print 'Executing everything after the first yield'\n",
    "    print 'Value is currently: ', value\n",
    "    \n",
    "obj = simple_coroutine()\n",
    "next(obj)"
   ]
  },
  {
   "cell_type": "markdown",
   "metadata": {},
   "source": [
    "Let's examine a few of the things that happened in the example above:\n",
    "\n",
    "1) When we called ``next(obj)`` on the generator object, we executed everything until the yield and also returned the yielded value (which is 1 ) in this case"
   ]
  },
  {
   "cell_type": "code",
   "execution_count": 17,
   "metadata": {
    "collapsed": false
   },
   "outputs": [
    {
     "name": "stdout",
     "output_type": "stream",
     "text": [
      "Executing everything after the first yield\n",
      "Value is currently:  5\n"
     ]
    },
    {
     "ename": "StopIteration",
     "evalue": "",
     "output_type": "error",
     "traceback": [
      "\u001b[1;31m---------------------------------------------------------------------------\u001b[0m",
      "\u001b[1;31mStopIteration\u001b[0m                             Traceback (most recent call last)",
      "\u001b[1;32m<ipython-input-17-5156e45d43ca>\u001b[0m in \u001b[0;36m<module>\u001b[1;34m()\u001b[0m\n\u001b[1;32m----> 1\u001b[1;33m \u001b[0mobj\u001b[0m\u001b[1;33m.\u001b[0m\u001b[0msend\u001b[0m\u001b[1;33m(\u001b[0m\u001b[1;36m5\u001b[0m\u001b[1;33m)\u001b[0m\u001b[1;33m\u001b[0m\u001b[0m\n\u001b[0m",
      "\u001b[1;31mStopIteration\u001b[0m: "
     ]
    }
   ],
   "source": [
    "obj.send(5)"
   ]
  },
  {
   "cell_type": "markdown",
   "metadata": {},
   "source": [
    "When we call ``obj.send(5)``, we are able to alter the internal value of the variable ``value``, but we no longer have anything to yield, so we throw a ``StopIteration`` to signal that the generator has been exhausted"
   ]
  },
  {
   "cell_type": "markdown",
   "metadata": {},
   "source": [
    "## Exercises: Part 3\n",
    "1. Add logic to the ``simple_coroutine`` method, which would result in the following behaviour: after calling ``obj.send(5)``, yield the integer 2 instead of raising ``StopIteration`` method. "
   ]
  },
  {
   "cell_type": "code",
   "execution_count": null,
   "metadata": {
    "collapsed": true
   },
   "outputs": [],
   "source": []
  },
  {
   "cell_type": "code",
   "execution_count": null,
   "metadata": {
    "collapsed": true
   },
   "outputs": [],
   "source": []
  },
  {
   "cell_type": "markdown",
   "metadata": {},
   "source": [
    "# Bibliography and Further Reading:\n",
    "[Scipy Lecture Notes: 2.1 Advanced Python ](http://www.scipy-lectures.org/advanced/advanced_python/#generators)\n",
    "\n",
    "_Distributed Computing with Python_ by Francesco Pierfederici\n",
    "\n",
    "[PyCon 2014 - David Beazley: Generators - the Final Frontier ](https://www.youtube.com/watch?v=D1twn9kLmYg)\n",
    "\n",
    "[PyData Silicon Valley 2014- James Powell: Generators Will Free Your Mind ](https://www.youtube.com/watch?v=RdhoN4VVqq8)"
   ]
  },
  {
   "cell_type": "code",
   "execution_count": null,
   "metadata": {
    "collapsed": true
   },
   "outputs": [],
   "source": []
  }
 ],
 "metadata": {
  "kernelspec": {
   "display_name": "Python 2",
   "language": "python",
   "name": "python2"
  },
  "language_info": {
   "codemirror_mode": {
    "name": "ipython",
    "version": 2
   },
   "file_extension": ".py",
   "mimetype": "text/x-python",
   "name": "python",
   "nbconvert_exporter": "python",
   "pygments_lexer": "ipython2",
   "version": "2.7.6"
  }
 },
 "nbformat": 4,
 "nbformat_minor": 0
}
